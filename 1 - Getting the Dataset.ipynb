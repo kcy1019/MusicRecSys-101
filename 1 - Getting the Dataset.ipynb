{
 "cells": [
  {
   "cell_type": "markdown",
   "metadata": {},
   "source": [
    "# 유사곡 추천 101 - 1. 데이터셋 얻기"
   ]
  },
  {
   "cell_type": "markdown",
   "metadata": {},
   "source": [
    "### 데이터셋의 출처\n",
    "\n",
    "* [Million Song Dataset](https://labrosa.ee.columbia.edu/millionsong/)\n",
    "* [The Echo Nest Taste Profile Datset](https://labrosa.ee.columbia.edu/millionsong/tasteprofile)\n",
    "* [AllMusic Genre Dataset](http://www.ifs.tuwien.ac.at/mir/msd/download.html)\n",
    "\n",
    "### 데이터셋의 정보\n",
    "\n",
    "The Echo Nest Taste Profile 데이터셋에는 `(USER, SONG, PLAY-COUNT)` 형태로 희소 행렬이 저장되어 있습니다.\n",
    "[블로그](https://blog2.lucent.me/ml/music-recommender-systems-101-intro)에서 살펴보았던 형태와 똑같죠?\n",
    "앞으로도 유저 정보를 활용한 접근을 다룰 때에는 이 데이터를 이용해서 코드를 작성할 예정입니다.\n",
    "\n",
    "덧붙여, 이 데이터는 그대로 다루기엔 너무 크니까, 이렇게 줄여서 다루도록 합시다:\n",
    "\n",
    "- 10,000곡\n",
    "- 20,000유저\n",
    "\n",
    "물론, 머신의 성능이 뛰어나다면 아래에서 파라미터만 바꾸어서 큰 실험을 할 수도 있습니다."
   ]
  },
  {
   "cell_type": "code",
   "execution_count": 1,
   "metadata": {
    "ExecuteTime": {
     "end_time": "2019-02-03T12:39:12.551763Z",
     "start_time": "2019-02-03T12:30:20.707284Z"
    }
   },
   "outputs": [
    {
     "name": "stdout",
     "output_type": "stream",
     "text": [
      "  % Total    % Received % Xferd  Average Speed   Time    Time     Time  Current\n",
      "                                 Dload  Upload   Total   Spent    Left  Speed\n",
      "100   368  100   368    0     0    399      0 --:--:-- --:--:-- --:--:--   399\n",
      "100  488M  100  488M    0     0  1757k      0  0:04:44  0:04:44 --:--:-- 2055k  0     0  1857k      0  0:04:29  0:01:01  0:03:28 2301k4:37  0:01:46  0:02:51 1717k\n",
      "Archive:  train_triplets.txt.zip\n",
      "  inflating: train_triplets.txt      \n",
      "  % Total    % Received % Xferd  Average Speed   Time    Time     Time  Current\n",
      "                                 Dload  Upload   Total   Spent    Left  Speed\n",
      "100   369  100   369    0     0    192      0  0:00:01  0:00:01 --:--:--   192\n",
      "100 80.1M  100 80.1M    0     0  1974k      0  0:00:41  0:00:41 --:--:-- 2306k      0  0:00:42  0:00:35  0:00:07 2172k\n",
      "  % Total    % Received % Xferd  Average Speed   Time    Time     Time  Current\n",
      "                                 Dload  Upload   Total   Spent    Left  Speed\n",
      "100 1978k  100 1978k    0     0   562k      0  0:00:03  0:00:03 --:--:--  562k\n",
      "  % Total    % Received % Xferd  Average Speed   Time    Time     Time  Current\n",
      "                                 Dload  Upload   Total   Spent    Left  Speed\n",
      "100 8613k  100 8613k    0     0  89877      0  0:01:38  0:01:38 --:--:--  131k  0:02:01  0:00:04  0:01:57 72291     0  0:01:55  0:00:11  0:01:44 70006\n",
      "  % Total    % Received % Xferd  Average Speed   Time    Time     Time  Current\n",
      "                                 Dload  Upload   Total   Spent    Left  Speed\n",
      "100 11.0M  100 11.0M    0     0   136k      0  0:01:23  0:01:23 --:--:--  120k94213      0  0:02:03  0:00:13  0:01:50  113k  0  0:01:57  0:00:18  0:01:39  107k4  0:00:56  0:00:28  392k\n"
     ]
    }
   ],
   "source": [
    "!curl -OL http://labrosa.ee.columbia.edu/millionsong/sites/default/files/challenge/train_triplets.txt.zip\n",
    "!unzip train_triplets.txt.zip\n",
    "!curl -OL http://labrosa.ee.columbia.edu/millionsong/sites/default/files/AdditionalFiles/unique_tracks.txt\n",
    "!curl -L https://labrosa.ee.columbia.edu/millionsong/sites/default/files/tasteprofile/sid_mismatches.txt | awk '{print substr($2, 2)}' > mismatches.txt\n",
    "!curl -OL http://www.ifs.tuwien.ac.at/mir/msd/partitions/msd-MASD-styleAssignment.cls\n",
    "!curl -OL http://www.ifs.tuwien.ac.at/mir/msd/partitions/msd-MAGD-genreAssignment.cls"
   ]
  },
  {
   "cell_type": "markdown",
   "metadata": {},
   "source": [
    "##  메타데이터 읽기"
   ]
  },
  {
   "cell_type": "code",
   "execution_count": 2,
   "metadata": {
    "ExecuteTime": {
     "end_time": "2019-02-03T12:39:12.906066Z",
     "start_time": "2019-02-03T12:39:12.558115Z"
    }
   },
   "outputs": [],
   "source": [
    "import pandas as pd"
   ]
  },
  {
   "cell_type": "code",
   "execution_count": 3,
   "metadata": {
    "ExecuteTime": {
     "end_time": "2019-02-03T12:39:17.570607Z",
     "start_time": "2019-02-03T12:39:12.907813Z"
    }
   },
   "outputs": [
    {
     "name": "stdout",
     "output_type": "stream",
     "text": [
      "(1000000, 3)\n"
     ]
    },
    {
     "data": {
      "text/html": [
       "<div>\n",
       "<style scoped>\n",
       "    .dataframe tbody tr th:only-of-type {\n",
       "        vertical-align: middle;\n",
       "    }\n",
       "\n",
       "    .dataframe tbody tr th {\n",
       "        vertical-align: top;\n",
       "    }\n",
       "\n",
       "    .dataframe thead th {\n",
       "        text-align: right;\n",
       "    }\n",
       "</style>\n",
       "<table border=\"1\" class=\"dataframe\">\n",
       "  <thead>\n",
       "    <tr style=\"text-align: right;\">\n",
       "      <th></th>\n",
       "      <th>song</th>\n",
       "      <th>artist</th>\n",
       "      <th>title</th>\n",
       "    </tr>\n",
       "    <tr>\n",
       "      <th>track</th>\n",
       "      <th></th>\n",
       "      <th></th>\n",
       "      <th></th>\n",
       "    </tr>\n",
       "  </thead>\n",
       "  <tbody>\n",
       "    <tr>\n",
       "      <th>TRMMMYQ128F932D901</th>\n",
       "      <td>SOQMMHC12AB0180CB8</td>\n",
       "      <td>Faster Pussy cat</td>\n",
       "      <td>Silent Night</td>\n",
       "    </tr>\n",
       "    <tr>\n",
       "      <th>TRMMMKD128F425225D</th>\n",
       "      <td>SOVFVAK12A8C1350D9</td>\n",
       "      <td>Karkkiautomaatti</td>\n",
       "      <td>Tanssi vaan</td>\n",
       "    </tr>\n",
       "    <tr>\n",
       "      <th>TRMMMRX128F93187D9</th>\n",
       "      <td>SOGTUKN12AB017F4F1</td>\n",
       "      <td>Hudson Mohawke</td>\n",
       "      <td>No One Could Ever</td>\n",
       "    </tr>\n",
       "    <tr>\n",
       "      <th>TRMMMCH128F425532C</th>\n",
       "      <td>SOBNYVR12A8C13558C</td>\n",
       "      <td>Yerba Brava</td>\n",
       "      <td>Si Vos Querés</td>\n",
       "    </tr>\n",
       "    <tr>\n",
       "      <th>TRMMMWA128F426B589</th>\n",
       "      <td>SOHSBXH12A8C13B0DF</td>\n",
       "      <td>Der Mystic</td>\n",
       "      <td>Tangle Of Aspens</td>\n",
       "    </tr>\n",
       "  </tbody>\n",
       "</table>\n",
       "</div>"
      ],
      "text/plain": [
       "                                  song            artist              title\n",
       "track                                                                      \n",
       "TRMMMYQ128F932D901  SOQMMHC12AB0180CB8  Faster Pussy cat       Silent Night\n",
       "TRMMMKD128F425225D  SOVFVAK12A8C1350D9  Karkkiautomaatti        Tanssi vaan\n",
       "TRMMMRX128F93187D9  SOGTUKN12AB017F4F1    Hudson Mohawke  No One Could Ever\n",
       "TRMMMCH128F425532C  SOBNYVR12A8C13558C       Yerba Brava      Si Vos Querés\n",
       "TRMMMWA128F426B589  SOHSBXH12A8C13B0DF        Der Mystic   Tangle Of Aspens"
      ]
     },
     "execution_count": 3,
     "metadata": {},
     "output_type": "execute_result"
    }
   ],
   "source": [
    "tracks = pd.read_csv('unique_tracks.txt', sep='<SEP>', header=None, names=['track','song','artist','title'], engine='python')\n",
    "tracks = tracks.set_index('track')\n",
    "print(tracks.shape)\n",
    "tracks.head()"
   ]
  },
  {
   "cell_type": "markdown",
   "metadata": {},
   "source": [
    "### 잘못된 엔트리 제거 (참고: [Matching Errors](https://labrosa.ee.columbia.edu/millionsong/blog/12-2-12-fixing-matching-errors))"
   ]
  },
  {
   "cell_type": "code",
   "execution_count": 4,
   "metadata": {
    "ExecuteTime": {
     "end_time": "2019-02-03T12:39:18.250100Z",
     "start_time": "2019-02-03T12:39:17.574419Z"
    }
   },
   "outputs": [
    {
     "data": {
      "text/plain": [
       "(981022, 3)"
      ]
     },
     "execution_count": 4,
     "metadata": {},
     "output_type": "execute_result"
    }
   ],
   "source": [
    "mismatched = pd.read_csv('mismatches.txt', header=None, names=['song'])\n",
    "tracks = tracks[tracks['song'].isin(mismatched['song']) == False]\n",
    "tracks.shape"
   ]
  },
  {
   "cell_type": "markdown",
   "metadata": {},
   "source": [
    "### 장르와 스타일 정보 추가"
   ]
  },
  {
   "cell_type": "code",
   "execution_count": 5,
   "metadata": {
    "ExecuteTime": {
     "end_time": "2019-02-03T12:39:21.410692Z",
     "start_time": "2019-02-03T12:39:18.254813Z"
    }
   },
   "outputs": [
    {
     "data": {
      "text/html": [
       "<div>\n",
       "<style scoped>\n",
       "    .dataframe tbody tr th:only-of-type {\n",
       "        vertical-align: middle;\n",
       "    }\n",
       "\n",
       "    .dataframe tbody tr th {\n",
       "        vertical-align: top;\n",
       "    }\n",
       "\n",
       "    .dataframe thead th {\n",
       "        text-align: right;\n",
       "    }\n",
       "</style>\n",
       "<table border=\"1\" class=\"dataframe\">\n",
       "  <thead>\n",
       "    <tr style=\"text-align: right;\">\n",
       "      <th></th>\n",
       "      <th>song</th>\n",
       "      <th>artist</th>\n",
       "      <th>title</th>\n",
       "      <th>style</th>\n",
       "      <th>genre</th>\n",
       "    </tr>\n",
       "    <tr>\n",
       "      <th>track</th>\n",
       "      <th></th>\n",
       "      <th></th>\n",
       "      <th></th>\n",
       "      <th></th>\n",
       "      <th></th>\n",
       "    </tr>\n",
       "  </thead>\n",
       "  <tbody>\n",
       "    <tr>\n",
       "      <th>TRMMMYQ128F932D901</th>\n",
       "      <td>SOQMMHC12AB0180CB8</td>\n",
       "      <td>Faster Pussy cat</td>\n",
       "      <td>Silent Night</td>\n",
       "      <td>NaN</td>\n",
       "      <td>NaN</td>\n",
       "    </tr>\n",
       "    <tr>\n",
       "      <th>TRMMMKD128F425225D</th>\n",
       "      <td>SOVFVAK12A8C1350D9</td>\n",
       "      <td>Karkkiautomaatti</td>\n",
       "      <td>Tanssi vaan</td>\n",
       "      <td>NaN</td>\n",
       "      <td>NaN</td>\n",
       "    </tr>\n",
       "    <tr>\n",
       "      <th>TRMMMRX128F93187D9</th>\n",
       "      <td>SOGTUKN12AB017F4F1</td>\n",
       "      <td>Hudson Mohawke</td>\n",
       "      <td>No One Could Ever</td>\n",
       "      <td>Electronica</td>\n",
       "      <td>Electronic</td>\n",
       "    </tr>\n",
       "    <tr>\n",
       "      <th>TRMMMCH128F425532C</th>\n",
       "      <td>SOBNYVR12A8C13558C</td>\n",
       "      <td>Yerba Brava</td>\n",
       "      <td>Si Vos Querés</td>\n",
       "      <td>NaN</td>\n",
       "      <td>International</td>\n",
       "    </tr>\n",
       "    <tr>\n",
       "      <th>TRMMMWA128F426B589</th>\n",
       "      <td>SOHSBXH12A8C13B0DF</td>\n",
       "      <td>Der Mystic</td>\n",
       "      <td>Tangle Of Aspens</td>\n",
       "      <td>NaN</td>\n",
       "      <td>NaN</td>\n",
       "    </tr>\n",
       "  </tbody>\n",
       "</table>\n",
       "</div>"
      ],
      "text/plain": [
       "                                  song            artist              title  \\\n",
       "track                                                                         \n",
       "TRMMMYQ128F932D901  SOQMMHC12AB0180CB8  Faster Pussy cat       Silent Night   \n",
       "TRMMMKD128F425225D  SOVFVAK12A8C1350D9  Karkkiautomaatti        Tanssi vaan   \n",
       "TRMMMRX128F93187D9  SOGTUKN12AB017F4F1    Hudson Mohawke  No One Could Ever   \n",
       "TRMMMCH128F425532C  SOBNYVR12A8C13558C       Yerba Brava      Si Vos Querés   \n",
       "TRMMMWA128F426B589  SOHSBXH12A8C13B0DF        Der Mystic   Tangle Of Aspens   \n",
       "\n",
       "                          style          genre  \n",
       "track                                           \n",
       "TRMMMYQ128F932D901          NaN            NaN  \n",
       "TRMMMKD128F425225D          NaN            NaN  \n",
       "TRMMMRX128F93187D9  Electronica     Electronic  \n",
       "TRMMMCH128F425532C          NaN  International  \n",
       "TRMMMWA128F426B589          NaN            NaN  "
      ]
     },
     "execution_count": 5,
     "metadata": {},
     "output_type": "execute_result"
    }
   ],
   "source": [
    "styles = pd.read_csv('msd-MASD-styleAssignment.cls', sep='\\t', header=None, names=['track', 'style'], index_col='track')\n",
    "genres = pd.read_csv('msd-MAGD-genreAssignment.cls', sep='\\t', header=None, names=['track', 'genre'], index_col='track')\n",
    "tracks = tracks.join(styles, on='track', how='left')\n",
    "tracks = tracks.join(genres, on='track', how='left')\n",
    "tracks.head()"
   ]
  },
  {
   "cell_type": "markdown",
   "metadata": {},
   "source": [
    "## 플레이 카운트 행렬 읽기"
   ]
  },
  {
   "cell_type": "code",
   "execution_count": 6,
   "metadata": {
    "ExecuteTime": {
     "end_time": "2019-02-03T12:40:10.232647Z",
     "start_time": "2019-02-03T12:39:21.414610Z"
    }
   },
   "outputs": [
    {
     "name": "stdout",
     "output_type": "stream",
     "text": [
      "(48373586, 3)\n"
     ]
    },
    {
     "data": {
      "text/html": [
       "<div>\n",
       "<style scoped>\n",
       "    .dataframe tbody tr th:only-of-type {\n",
       "        vertical-align: middle;\n",
       "    }\n",
       "\n",
       "    .dataframe tbody tr th {\n",
       "        vertical-align: top;\n",
       "    }\n",
       "\n",
       "    .dataframe thead th {\n",
       "        text-align: right;\n",
       "    }\n",
       "</style>\n",
       "<table border=\"1\" class=\"dataframe\">\n",
       "  <thead>\n",
       "    <tr style=\"text-align: right;\">\n",
       "      <th></th>\n",
       "      <th>user</th>\n",
       "      <th>song</th>\n",
       "      <th>count</th>\n",
       "    </tr>\n",
       "  </thead>\n",
       "  <tbody>\n",
       "    <tr>\n",
       "      <th>0</th>\n",
       "      <td>b80344d063b5ccb3212f76538f3d9e43d87dca9e</td>\n",
       "      <td>SOAKIMP12A8C130995</td>\n",
       "      <td>1</td>\n",
       "    </tr>\n",
       "    <tr>\n",
       "      <th>1</th>\n",
       "      <td>b80344d063b5ccb3212f76538f3d9e43d87dca9e</td>\n",
       "      <td>SOAPDEY12A81C210A9</td>\n",
       "      <td>1</td>\n",
       "    </tr>\n",
       "    <tr>\n",
       "      <th>2</th>\n",
       "      <td>b80344d063b5ccb3212f76538f3d9e43d87dca9e</td>\n",
       "      <td>SOBBMDR12A8C13253B</td>\n",
       "      <td>2</td>\n",
       "    </tr>\n",
       "    <tr>\n",
       "      <th>3</th>\n",
       "      <td>b80344d063b5ccb3212f76538f3d9e43d87dca9e</td>\n",
       "      <td>SOBFNSP12AF72A0E22</td>\n",
       "      <td>1</td>\n",
       "    </tr>\n",
       "    <tr>\n",
       "      <th>4</th>\n",
       "      <td>b80344d063b5ccb3212f76538f3d9e43d87dca9e</td>\n",
       "      <td>SOBFOVM12A58A7D494</td>\n",
       "      <td>1</td>\n",
       "    </tr>\n",
       "  </tbody>\n",
       "</table>\n",
       "</div>"
      ],
      "text/plain": [
       "                                       user                song  count\n",
       "0  b80344d063b5ccb3212f76538f3d9e43d87dca9e  SOAKIMP12A8C130995      1\n",
       "1  b80344d063b5ccb3212f76538f3d9e43d87dca9e  SOAPDEY12A81C210A9      1\n",
       "2  b80344d063b5ccb3212f76538f3d9e43d87dca9e  SOBBMDR12A8C13253B      2\n",
       "3  b80344d063b5ccb3212f76538f3d9e43d87dca9e  SOBFNSP12AF72A0E22      1\n",
       "4  b80344d063b5ccb3212f76538f3d9e43d87dca9e  SOBFOVM12A58A7D494      1"
      ]
     },
     "execution_count": 6,
     "metadata": {},
     "output_type": "execute_result"
    }
   ],
   "source": [
    "play_counts = pd.read_table('train_triplets.txt', sep='\\t', header=None, names=['user','song','count'])\n",
    "play_counts = play_counts[play_counts.song.isin(mismatched.song) == False]  # 잘못된 엔트리 제거\n",
    "print(play_counts.shape)\n",
    "play_counts.head()"
   ]
  },
  {
   "cell_type": "markdown",
   "metadata": {},
   "source": [
    "### 가장 많이 재생된(가장 유명한) k개의 노래 찾기 (k = 10,000)"
   ]
  },
  {
   "cell_type": "code",
   "execution_count": 7,
   "metadata": {
    "ExecuteTime": {
     "end_time": "2019-02-03T12:40:10.661606Z",
     "start_time": "2019-02-03T12:40:10.235643Z"
    }
   },
   "outputs": [],
   "source": [
    "%matplotlib inline\n",
    "import matplotlib.pyplot as plt\n",
    "import seaborn as sns\n",
    "import numpy as np\n",
    "sns.set_style('whitegrid')"
   ]
  },
  {
   "cell_type": "markdown",
   "metadata": {},
   "source": [
    "데이터를 정리하는 김에, 한번 청취 횟수의 분포가 어떤지도 그려봅시다.\n",
    "딱 예상 그대로의 롱테일 분포가 나옵니다. log10을 씌웠는데도 이 정도라니!"
   ]
  },
  {
   "cell_type": "code",
   "execution_count": 8,
   "metadata": {
    "ExecuteTime": {
     "end_time": "2019-02-03T12:40:28.050351Z",
     "start_time": "2019-02-03T12:40:10.663842Z"
    }
   },
   "outputs": [
    {
     "data": {
      "text/plain": [
       "<matplotlib.axes._subplots.AxesSubplot at 0x7fd0ed46bf28>"
      ]
     },
     "execution_count": 8,
     "metadata": {},
     "output_type": "execute_result"
    },
    {
     "data": {
      "image/png": "[encoded data removed]",
      "text/plain": [
       "<Figure size 432x288 with 1 Axes>"
      ]
     },
     "metadata": {
      "needs_background": "light"
     },
     "output_type": "display_data"
    }
   ],
   "source": [
    "k = 10000\n",
    "popular = play_counts.drop(columns='user').groupby(by='song').agg(sum).sort_values(by='count', ascending=False).head(k)\n",
    "sns.lineplot(data=np.log10(popular['count'].values))"
   ]
  },
  {
   "cell_type": "markdown",
   "metadata": {},
   "source": [
    "### 노래를 가장 많이 듣는 n명의 유저 찾기 (n = 20,000)\n",
    "\n",
    "여기서는 위에서 얻은 k개의 노래에 대해서만 유저를 찾도록 합시다."
   ]
  },
  {
   "cell_type": "code",
   "execution_count": 9,
   "metadata": {
    "ExecuteTime": {
     "end_time": "2019-02-03T12:40:39.051496Z",
     "start_time": "2019-02-03T12:40:28.052523Z"
    }
   },
   "outputs": [
    {
     "data": {
      "text/plain": [
       "((25678977, 3), 1012431)"
      ]
     },
     "execution_count": 9,
     "metadata": {},
     "output_type": "execute_result"
    }
   ],
   "source": [
    "usable = play_counts[play_counts.song.isin(popular.index)]\n",
    "usable.shape, len(usable.user.unique())"
   ]
  },
  {
   "cell_type": "markdown",
   "metadata": {
    "ExecuteTime": {
     "end_time": "2019-02-03T12:41:00.341644Z",
     "start_time": "2019-02-03T12:41:00.334986Z"
    }
   },
   "source": [
    "똑같이, 유저에 따른 청취 횟수도 한번 그려봅시다.\n",
    "이건 정말 의외였는데, 위의 그래프와 비슷하게 롱테일 그래프가 나옵니다. 이건 좀 신기하네요."
   ]
  },
  {
   "cell_type": "code",
   "execution_count": 10,
   "metadata": {
    "ExecuteTime": {
     "end_time": "2019-02-03T12:40:47.331023Z",
     "start_time": "2019-02-03T12:40:39.054274Z"
    }
   },
   "outputs": [
    {
     "data": {
      "text/plain": [
       "<matplotlib.axes._subplots.AxesSubplot at 0x7fd0ecacce10>"
      ]
     },
     "execution_count": 10,
     "metadata": {},
     "output_type": "execute_result"
    },
    {
     "data": {
      "image/png": "[encoded data removed]",
      "text/plain": [
       "<Figure size 432x288 with 1 Axes>"
      ]
     },
     "metadata": {
      "needs_background": "light"
     },
     "output_type": "display_data"
    }
   ],
   "source": [
    "n = 20000\n",
    "listener = usable.drop(columns='song').groupby('user').agg(sum).sort_values(by='count', ascending=False).head(n)\n",
    "sns.lineplot(data=np.log10(listener['count'].values))"
   ]
  },
  {
   "cell_type": "markdown",
   "metadata": {},
   "source": [
    "### 희소 행렬 만들기\n",
    "\n",
    "이제 마지막 스텝으로, 위의 플레이 카운트 테이블을 다루기 쉬운 희소 행렬로 바꾸어 봅시다."
   ]
  },
  {
   "cell_type": "code",
   "execution_count": 11,
   "metadata": {
    "ExecuteTime": {
     "end_time": "2019-02-03T12:40:55.993303Z",
     "start_time": "2019-02-03T12:40:47.334627Z"
    }
   },
   "outputs": [
    {
     "name": "stdout",
     "output_type": "stream",
     "text": [
      "(2162215, 3)\n"
     ]
    },
    {
     "data": {
      "text/html": [
       "<div>\n",
       "<style scoped>\n",
       "    .dataframe tbody tr th:only-of-type {\n",
       "        vertical-align: middle;\n",
       "    }\n",
       "\n",
       "    .dataframe tbody tr th {\n",
       "        vertical-align: top;\n",
       "    }\n",
       "\n",
       "    .dataframe thead th {\n",
       "        text-align: right;\n",
       "    }\n",
       "</style>\n",
       "<table border=\"1\" class=\"dataframe\">\n",
       "  <thead>\n",
       "    <tr style=\"text-align: right;\">\n",
       "      <th></th>\n",
       "      <th>user</th>\n",
       "      <th>song</th>\n",
       "      <th>count</th>\n",
       "    </tr>\n",
       "  </thead>\n",
       "  <tbody>\n",
       "    <tr>\n",
       "      <th>560</th>\n",
       "      <td>5a905f000fc1ff3df7ca807d57edb608863db05d</td>\n",
       "      <td>SOAFTRR12AF72A8D4D</td>\n",
       "      <td>1</td>\n",
       "    </tr>\n",
       "    <tr>\n",
       "      <th>561</th>\n",
       "      <td>5a905f000fc1ff3df7ca807d57edb608863db05d</td>\n",
       "      <td>SOAIILB12A58A776F7</td>\n",
       "      <td>3</td>\n",
       "    </tr>\n",
       "    <tr>\n",
       "      <th>563</th>\n",
       "      <td>5a905f000fc1ff3df7ca807d57edb608863db05d</td>\n",
       "      <td>SOAJJDS12A8C13A3FB</td>\n",
       "      <td>1</td>\n",
       "    </tr>\n",
       "    <tr>\n",
       "      <th>565</th>\n",
       "      <td>5a905f000fc1ff3df7ca807d57edb608863db05d</td>\n",
       "      <td>SOAKDHD12A6310F1AE</td>\n",
       "      <td>1</td>\n",
       "    </tr>\n",
       "    <tr>\n",
       "      <th>566</th>\n",
       "      <td>5a905f000fc1ff3df7ca807d57edb608863db05d</td>\n",
       "      <td>SOAMDXO12A8C131E2F</td>\n",
       "      <td>2</td>\n",
       "    </tr>\n",
       "  </tbody>\n",
       "</table>\n",
       "</div>"
      ],
      "text/plain": [
       "                                         user                song  count\n",
       "560  5a905f000fc1ff3df7ca807d57edb608863db05d  SOAFTRR12AF72A8D4D      1\n",
       "561  5a905f000fc1ff3df7ca807d57edb608863db05d  SOAIILB12A58A776F7      3\n",
       "563  5a905f000fc1ff3df7ca807d57edb608863db05d  SOAJJDS12A8C13A3FB      1\n",
       "565  5a905f000fc1ff3df7ca807d57edb608863db05d  SOAKDHD12A6310F1AE      1\n",
       "566  5a905f000fc1ff3df7ca807d57edb608863db05d  SOAMDXO12A8C131E2F      2"
      ]
     },
     "execution_count": 11,
     "metadata": {},
     "output_type": "execute_result"
    }
   ],
   "source": [
    "play_counts = play_counts[play_counts.user.isin(listener.index) & play_counts.song.isin(popular.index)]\n",
    "print(play_counts.shape)\n",
    "play_counts.head()"
   ]
  },
  {
   "cell_type": "markdown",
   "metadata": {},
   "source": [
    "`pandas.Categorical`을 이용하면 `str`과 같은 다양한 형태의 데이터를 인덱스로 바꿀 수 있습니다.\n",
    "비슷한 방법으로는 `scikit-learn`의 `LabelEncoder`가 있습니다. ([Categorical](https://pandas.pydata.org/pandas-docs/stable/user_guide/categorical.html), [LabelEncoder](https://scikit-learn.org/stable/modules/generated/sklearn.preprocessing.LabelEncoder.html))"
   ]
  },
  {
   "cell_type": "code",
   "execution_count": 12,
   "metadata": {
    "ExecuteTime": {
     "end_time": "2019-02-03T12:40:56.853012Z",
     "start_time": "2019-02-03T12:40:55.995322Z"
    }
   },
   "outputs": [
    {
     "data": {
      "text/plain": [
       "<10000x20000 sparse matrix of type '<class 'numpy.int64'>'\n",
       "\twith 2162215 stored elements in COOrdinate format>"
      ]
     },
     "execution_count": 12,
     "metadata": {},
     "output_type": "execute_result"
    }
   ],
   "source": [
    "import scipy.sparse as sparse\n",
    "play_counts.user = play_counts.user.astype(\"category\")\n",
    "play_counts.song = play_counts.song.astype(\"category\")\n",
    "play_count_matrix = sparse.coo_matrix((play_counts['count'].values,\n",
    "                                       (play_counts.song.cat.codes, play_counts.user.cat.codes)),\n",
    "                                      shape=(k, n))\n",
    "play_count_matrix"
   ]
  },
  {
   "cell_type": "markdown",
   "metadata": {},
   "source": [
    "### 유효성 검증 (설마 아무도 안 들은 노래가 있다거나?)\n",
    "\n",
    "다행히 없습니다. 휴!\n",
    "만약 이런 곳에서 유효성 검증에 실패할 경우, 데이터를 뽑는 방법,\n",
    "예를 들어 위에서 유저를 뽑는 방법을 다시 생각해 보아야 합니다."
   ]
  },
  {
   "cell_type": "code",
   "execution_count": 13,
   "metadata": {
    "ExecuteTime": {
     "end_time": "2019-02-03T12:40:56.868875Z",
     "start_time": "2019-02-03T12:40:56.854700Z"
    }
   },
   "outputs": [],
   "source": [
    "assert(np.min(np.bincount(play_count_matrix.row)) > 0)"
   ]
  },
  {
   "cell_type": "markdown",
   "metadata": {},
   "source": [
    "## 처리한 데이터셋 저장하기\n",
    "\n",
    "전처리 한 데이터를 저장할 때에는,\n",
    "다시 로드할 때 시간이 덜 걸리는 타입을 선택하는 것이 좋습니다."
   ]
  },
  {
   "cell_type": "code",
   "execution_count": 14,
   "metadata": {
    "ExecuteTime": {
     "end_time": "2019-02-03T12:41:00.330684Z",
     "start_time": "2019-02-03T12:40:56.870572Z"
    }
   },
   "outputs": [],
   "source": [
    "tracks = tracks[tracks.song.isin(play_counts.song)]\n",
    "tracks.song = pd.Categorical(tracks.song, categories=play_counts.song.cat.categories)\n",
    "tracks['code'] = tracks.song.cat.codes\n",
    "tracks = tracks.reset_index(level=0).set_index('code')\n",
    "tracks.to_hdf('metadata.hdf', key='data', format='table')\n",
    "sparse.save_npz('play_count_matrix.npz', play_count_matrix)"
   ]
  }
 ],
 "metadata": {
  "kernelspec": {
   "display_name": "Python 3",
   "language": "python",
   "name": "python3"
  },
  "language_info": {
   "codemirror_mode": {
    "name": "ipython",
    "version": 3
   },
   "file_extension": ".py",
   "mimetype": "text/x-python",
   "name": "python",
   "nbconvert_exporter": "python",
   "pygments_lexer": "ipython3",
   "version": "3.7.0"
  }
 },
 "nbformat": 4,
 "nbformat_minor": 2
}
